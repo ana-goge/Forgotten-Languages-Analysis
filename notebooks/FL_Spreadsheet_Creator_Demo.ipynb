{
 "cells": [
  {
   "cell_type": "markdown",
   "id": "c41ba2a7-ada2-4283-8479-5a20cff2587d",
   "metadata": {},
   "source": [
    "# FL Spreadsheet Creator - Demo\n",
    "\n",
    "This notebook demonstrates how to use the **FL Spreadsheet Creator** to generate and update a translation spreadsheet from pairs of English and FL text.\n",
    "\n",
    "Please note: You must come with the English and FL text already prepared. The inputs must have the same number of words for the script to work correctly.\n",
    "\n",
    "Additionally, the input texts are aligned, apostrophes and dashes have been removed, and the specific input will depend on the particular FL language you are working with. This example uses the Aylid language."
   ]
  },
  {
   "cell_type": "code",
   "execution_count": 2,
   "id": "93dff24a-7846-4a3c-bb85-4f35fae86f3d",
   "metadata": {},
   "outputs": [],
   "source": [
    "# Import necessary libraries\n",
    "import pandas as pd\n",
    "import re\n",
    "import os\n",
    "from IPython.display import display"
   ]
  },
  {
   "cell_type": "code",
   "execution_count": 3,
   "id": "f6d6d576-f79a-4d68-8219-2ae58b7f197e",
   "metadata": {},
   "outputs": [],
   "source": [
    "def update_translation_spreadsheet(english_text, fl_text, output_file):\n",
    "    # Clean and split the texts\n",
    "    english_words = re.findall(r'\\b\\w+\\b', english_text.lower())\n",
    "    fl_words = re.findall(r'\\b\\w+\\b', fl_text.lower())\n",
    "    \n",
    "    # Check if the number of words match\n",
    "    if len(english_words) != len(fl_words):\n",
    "        print(f\"\\nError: Word count mismatch!\")\n",
    "        print(f\"English words ({len(english_words)}): {', '.join(english_words)}\")\n",
    "        print(f\"FL words ({len(fl_words)}): {', '.join(fl_words)}\")\n",
    "        print(\"\\nPlease make sure the texts have the same number of words before proceeding.\")\n",
    "        return\n",
    "    \n",
    "    # Create word pairs\n",
    "    word_pairs = list(zip(english_words, fl_words))\n",
    "    \n",
    "    try:\n",
    "        # Try to read existing Excel file\n",
    "        df = pd.read_excel(output_file)\n",
    "    except FileNotFoundError:\n",
    "        # Create new DataFrame if file doesn't exist\n",
    "        df = pd.DataFrame(columns=['English', 'FL', 'FL_Alt', 'English_Alt'])\n",
    "    \n",
    "    alternatives_added = []\n",
    "    \n",
    "    # Create dictionaries to store all translations\n",
    "    eng_to_fl_dict = {}\n",
    "    fl_to_eng_dict = {}\n",
    "    \n",
    "    # First, load existing translations into dictionaries\n",
    "    for _, row in df.iterrows():\n",
    "        eng = row['English']\n",
    "        fl = row['FL']\n",
    "        \n",
    "        if eng not in eng_to_fl_dict:\n",
    "            eng_to_fl_dict[eng] = set()\n",
    "        eng_to_fl_dict[eng].add(fl)\n",
    "        \n",
    "        # Add alternatives if they exist\n",
    "        if pd.notna(row['FL_Alt']):\n",
    "            eng_to_fl_dict[eng].update(row['FL_Alt'].split(', '))\n",
    "            \n",
    "        if fl not in fl_to_eng_dict:\n",
    "            fl_to_eng_dict[fl] = set()\n",
    "        fl_to_eng_dict[fl].add(eng)\n",
    "        \n",
    "        # Add alternatives if they exist\n",
    "        if pd.notna(row['English_Alt']):\n",
    "            fl_to_eng_dict[fl].update(row['English_Alt'].split(', '))\n",
    "    \n",
    "    # Add new word pairs to dictionaries\n",
    "    for eng, fl in word_pairs:\n",
    "        if eng not in eng_to_fl_dict:\n",
    "            eng_to_fl_dict[eng] = set()\n",
    "        eng_to_fl_dict[eng].add(fl)\n",
    "        \n",
    "        if fl not in fl_to_eng_dict:\n",
    "            fl_to_eng_dict[fl] = set()\n",
    "        fl_to_eng_dict[fl].add(eng)\n",
    "    \n",
    "    # Create the final DataFrame with alternates\n",
    "    final_data = []\n",
    "    for eng, fl_set in eng_to_fl_dict.items():\n",
    "        fl_list = sorted(list(fl_set))\n",
    "        primary_fl = fl_list[0]\n",
    "        alt_fl = ', '.join(fl_list[1:]) if len(fl_list) > 1 else ''\n",
    "        \n",
    "        # Get English alternatives for the primary FL\n",
    "        eng_alts = sorted(list(fl_to_eng_dict[primary_fl] - {eng}))\n",
    "        eng_alt_str = ', '.join(eng_alts) if eng_alts else ''\n",
    "        \n",
    "        final_data.append({\n",
    "            'English': eng,\n",
    "            'FL': primary_fl,\n",
    "            'FL_Alt': alt_fl,\n",
    "            'English_Alt': eng_alt_str\n",
    "        })\n",
    "    \n",
    "    # Create final DataFrame and sort by English\n",
    "    result_df = pd.DataFrame(final_data).sort_values('English').reset_index(drop=True)\n",
    "    \n",
    "    # Save the file\n",
    "    result_df.to_excel(output_file, index=False)\n",
    "    \n",
    "    # Print conflicts if they exist\n",
    "    conflicts = result_df[(result_df['FL_Alt'] != '') | (result_df['English_Alt'] != '')]\n",
    "    if not conflicts.empty:\n",
    "        print(\"\\nWords with multiple translations found:\")\n",
    "        print(conflicts[['English', 'FL', 'FL_Alt', 'English_Alt']])\n",
    "    \n",
    "    print(f\"\\nSpreadsheet updated successfully: {output_file}\")\n",
    "\n",
    "def view_translation_file(file_path):\n",
    "    if os.path.exists(file_path):\n",
    "        df = pd.read_excel(file_path)\n",
    "        print(\"\\nCurrent contents of the translation file:\")\n",
    "        print(df.to_string())\n",
    "        print(f\"\\nTotal entries: {len(df)}\")\n",
    "    else:\n",
    "        print(f\"File not found: {file_path}\")"
   ]
  },
  {
   "cell_type": "markdown",
   "id": "391063cf-1693-4ce8-91e1-9aeb3d9b257f",
   "metadata": {},
   "source": [
    "## Example Usage\n",
    "\n",
    "Below, we will use the FL **Spreadsheet Creator** to generate or update a translation spreadsheet. The user must provide the English and FL text as inputs."
   ]
  },
  {
   "cell_type": "code",
   "execution_count": 4,
   "id": "6b29d563-5f9a-4e56-bf8c-bef0b5fe48a4",
   "metadata": {},
   "outputs": [
    {
     "name": "stdout",
     "output_type": "stream",
     "text": [
      "\n",
      "Spreadsheet updated successfully: AYLIDdemo.xlsx\n"
     ]
    }
   ],
   "source": [
    "# Input texts\n",
    "english_text = \"The output power of modern day lasers ranges from to megawatts in cases where they deliver the output power.\"\n",
    "fl_text = \"Fad yrisyr gwang nayn tiov ered ashe uvayn eno kij edrylaeth neste selig rano keru angeskar fad yrisyr gwang.\"\n",
    "\n",
    "# Output file\n",
    "output_file = 'AYLIDdemo.xlsx'\n",
    "\n",
    "# Run the spreadsheet update function\n",
    "update_translation_spreadsheet(english_text, fl_text, output_file)"
   ]
  },
  {
   "cell_type": "code",
   "execution_count": 5,
   "id": "ae97ecc3-6a3f-4203-ad6a-e9d08afbb0ba",
   "metadata": {},
   "outputs": [
    {
     "name": "stdout",
     "output_type": "stream",
     "text": [
      "\n",
      "Current contents of the translation file:\n",
      "      English         FL  FL_Alt  English_Alt\n",
      "0       cases      selig     NaN          NaN\n",
      "1         day       ered     NaN          NaN\n",
      "2     deliver   angeskar     NaN          NaN\n",
      "3        from        eno     NaN          NaN\n",
      "4          in      neste     NaN          NaN\n",
      "5      lasers       ashe     NaN          NaN\n",
      "6   megawatts  edrylaeth     NaN          NaN\n",
      "7      modern       tiov     NaN          NaN\n",
      "8          of       nayn     NaN          NaN\n",
      "9      output     yrisyr     NaN          NaN\n",
      "10      power      gwang     NaN          NaN\n",
      "11     ranges      uvayn     NaN          NaN\n",
      "12        the        fad     NaN          NaN\n",
      "13       they       keru     NaN          NaN\n",
      "14         to        kij     NaN          NaN\n",
      "15      where       rano     NaN          NaN\n",
      "\n",
      "Total entries: 16\n"
     ]
    }
   ],
   "source": [
    "# View the translation file to confirm it was updated\n",
    "view_translation_file(output_file)"
   ]
  },
  {
   "cell_type": "markdown",
   "id": "f50feeac-cbfb-41f1-b9dc-fef73aeb1c3c",
   "metadata": {},
   "source": [
    "## Conclusion\n",
    "\n",
    "This notebook demonstrates how to use the FL Spreadsheet Creator to maintain and update translation records between English and the FL language.\n",
    "\n",
    "Make sure that your inputs are well-prepared and that the number of words matches between the two languages."
   ]
  }
 ],
 "metadata": {
  "kernelspec": {
   "display_name": "Python 3 (ipykernel)",
   "language": "python",
   "name": "python3"
  },
  "language_info": {
   "codemirror_mode": {
    "name": "ipython",
    "version": 3
   },
   "file_extension": ".py",
   "mimetype": "text/x-python",
   "name": "python",
   "nbconvert_exporter": "python",
   "pygments_lexer": "ipython3",
   "version": "3.10.15"
  }
 },
 "nbformat": 4,
 "nbformat_minor": 5
}
